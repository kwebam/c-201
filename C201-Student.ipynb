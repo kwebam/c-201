{
 "cells": [
  {
   "cell_type": "markdown",
   "metadata": {},
   "source": [
    "# GUI Application"
   ]
  },
  {
   "cell_type": "code",
   "execution_count": null,
   "metadata": {},
   "outputs": [],
   "source": [
    "print(\"Name : Amol Kumar\")\n",
    "print(\"Creation a GUI base application for data data visualization\")"
   ]
  },
  {
   "cell_type": "code",
   "execution_count": 1,
   "metadata": {
    "scrolled": true
   },
   "outputs": [
    {
     "ename": "IndentationError",
     "evalue": "unexpected unindent (<ipython-input-1-cf238602f4a6>, line 67)",
     "output_type": "error",
     "traceback": [
      "\u001b[1;36m  File \u001b[1;32m\"<ipython-input-1-cf238602f4a6>\"\u001b[1;36m, line \u001b[1;32m67\u001b[0m\n\u001b[1;33m    def display_plot(xaxis, yaxis, graph_type):\u001b[0m\n\u001b[1;37m                                               ^\u001b[0m\n\u001b[1;31mIndentationError\u001b[0m\u001b[1;31m:\u001b[0m unexpected unindent\n"
     ]
    }
   ],
   "source": [
    "from ipywidgets import widgets\n",
    "from IPython.display import display, clear_output\n",
    "import pandas as pd\n",
    "from tkinter import Tk, filedialog\n",
    "import matplotlib.pyplot as plt\n",
    "graph_type = ['Choose one.. ','line','bar']\n",
    "operation =['choose','mean','max','min','sum','count']\n",
    "df = ''\n",
    "new_df = ''\n",
    "def select_files(b):\n",
    "    clear_output()\n",
    "    global df\n",
    "    root = Tk()\n",
    "    root.withdraw() \n",
    "    file_name = filedialog.askopenfilename()\n",
    "    df = pd.read_csv(file_name)\n",
    "    print(file_name)\n",
    "    df.replace( '', float('nan') ,inplace=True)\n",
    "    df.replace( '0', float('nan') ,inplace=True)\n",
    "    df = df.dropna()\n",
    "    display(df)\n",
    "    groupby_col_widget = widgets.Dropdown(options=df.columns)\n",
    "    operation_col_widget = widgets.Dropdown(options = df.columns)\n",
    "    operation_widget = widgets.Dropdown(options = operation)\n",
    "    groupby_int = widgets.interactive(groupby_dataframe, groupby_column=groupby_col_widget, operation_column= operation_col_widget, operation = operation_widget)\n",
    "    display(groupby_int)\n",
    "\n",
    "def get_widget():\n",
    "    global df\n",
    "    global new_df\n",
    "    xlabel_widget = widgets.Dropdown(options = new_df.columns)\n",
    "    ylabel_widget = widgets.Dropdown(options = new_df.columns)\n",
    "    graph_widget = widgets.Dropdown(options = graph_type)\n",
    "    graph = widgets.interactive(display_plot, xaxis=xlabel_widget, yaxis= ylabel_widget, graph_type = graph_widget)\n",
    "    display(graph)\n",
    "fileselect = widgets.Button(description=\"File select\")\n",
    "fileselect.on_click(select_files)\n",
    "display(fileselect)\n",
    "\n",
    "def groupby_dataframe(groupby_column, operation_column, operation):\n",
    "    global df\n",
    "    global new_df\n",
    "    \n",
    "    try:\n",
    "        print(df[operation_column].dtypes)\n",
    "        if(operation == 'mean'):\n",
    "            if(df[operation_column].dtypes != 'float' or df[operation_column].dtypes != 'int'):\n",
    "                df[operation_column] = df[operation_column].astype(float)\n",
    "            new_df = df.groupby(groupby_column)[operation_column].mean().reset_index()\n",
    "            display(new_df)\n",
    "        elif(operation == 'max'):\n",
    "            new_df = df.groupby(groupby_column)[operation_column].max().reset_index()\n",
    "            display(new_df)\n",
    "        elif(operation == 'min'):\n",
    "            new_df = df.groupby(groupby_column)[operation_column].min().reset_index()\n",
    "            display(new_df)\n",
    "        elif(operation == 'sum'):\n",
    "            if(df[operation_column].dtypes != 'float' or df[operation_column].dtypes != 'int'):\n",
    "                df[operation_column] = df[operation_column].astype(float)\n",
    "            new_df = df.groupby(groupby_column)[operation_column].sum().reset_index()\n",
    "            display(new_df)\n",
    "        elif(operation == 'count'):\n",
    "            new_df = df.groupby(groupby_column)[operation_column].count().reset_index()\n",
    "            display(new_df)\n",
    "        else:\n",
    "            print('Choose Valid Graph')\n",
    "\n",
    "def display_plot(xaxis, yaxis, graph_type):\n",
    "    global new_df\n",
    "    if(graph_type == 'line'):\n",
    "        plt.subplots(figsize=(19,8))\n",
    "        plt.plot(new_df[xaxis], new_df[yaxis], linewidth=3.0)\n",
    "        plt.xlabel(xaxis)\n",
    "        plt.xticks(rotation='vertical')\n",
    "        plt.ylabel(yaxis)\n",
    "        plt.show()\n",
    "    elif(graph_type == 'bar'):\n",
    "        plt.subplots(figsize=(19,8))\n",
    "        plt.bar(new_df[xaxis], new_df[yaxis], color=['red', 'green','blue','yellow','pink'])\n",
    "        plt.xlabel(xaxis)\n",
    "        plt.xticks(rotation='vertical')\n",
    "        plt.ylabel(yaxis)\n",
    "        plt.show()\n",
    "    else:\n",
    "        print(\"Choose valid graph\")"
   ]
  },
  {
   "cell_type": "code",
   "execution_count": null,
   "metadata": {},
   "outputs": [],
   "source": []
  }
 ],
 "metadata": {
  "kernelspec": {
   "display_name": "Python 3",
   "language": "python",
   "name": "python3"
  },
  "language_info": {
   "codemirror_mode": {
    "name": "ipython",
    "version": 3
   },
   "file_extension": ".py",
   "mimetype": "text/x-python",
   "name": "python",
   "nbconvert_exporter": "python",
   "pygments_lexer": "ipython3",
   "version": "3.8.8"
  }
 },
 "nbformat": 4,
 "nbformat_minor": 4
}
